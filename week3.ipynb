{
 "cells": [
  {
   "cell_type": "markdown",
   "metadata": {
    "pycharm": {
     "name": "#%% md\n"
    }
   },
   "source": [
    "# Coursera - IBM Data Science Professional Certificate\n",
    "## Applied Data Science Capstone\n",
    "### Segmenting and Clustering Neighborhoods in Toronto\n",
    "#### by: ljzlaomi"
   ]
  },
  {
   "cell_type": "markdown",
   "metadata": {},
   "source": [
    "## ----------------------------------------Part 1----------------------------------------"
   ]
  },
  {
   "cell_type": "code",
   "execution_count": 1,
   "metadata": {
    "pycharm": {
     "name": "#%%\n"
    }
   },
   "outputs": [
    {
     "name": "stdout",
     "output_type": "stream",
     "text": [
      "Import Finished!\n"
     ]
    }
   ],
   "source": [
    "import numpy as np\n",
    "import pandas as pd\n",
    "import requests\n",
    "from bs4 import BeautifulSoup\n",
    "\n",
    "print(\"Library imported!\")"
   ]
  },
  {
   "cell_type": "markdown",
   "metadata": {},
   "source": [
    "### Parse the page and find the tables"
   ]
  },
  {
   "cell_type": "code",
   "execution_count": 2,
   "metadata": {
    "pycharm": {
     "name": "#%%\n"
    }
   },
   "outputs": [
    {
     "name": "stdout",
     "output_type": "stream",
     "text": [
      "There are 3 table(s) on this page!\n"
     ]
    }
   ],
   "source": [
    "res = requests.get(r'https://en.wikipedia.org/wiki/List_of_postal_codes_of_Canada:_M')\n",
    "bs = BeautifulSoup(res.text, features='lxml')\n",
    "tables = bs.findAll('table')\n",
    "\n",
    "print(\"There are %d table(s) on this page!\" % len(tables))\n",
    "if len(tables) < 1:\n",
    "\traise Exception(\"No tables on this page!\")"
   ]
  },
  {
   "cell_type": "markdown",
   "metadata": {
    "pycharm": {
     "name": "#%% md\n"
    }
   },
   "source": [
    "### Select the right table with header: [\"Postal code\", \"Borough\", \"Neighborhood\"]"
   ]
  },
  {
   "cell_type": "code",
   "execution_count": 3,
   "metadata": {
    "pycharm": {
     "name": "#%%\n"
    }
   },
   "outputs": [
    {
     "name": "stdout",
     "output_type": "stream",
     "text": [
      "table with header ['Postal code', 'Borough', 'Neighborhood'] is successfully located!\n"
     ]
    }
   ],
   "source": [
    "table = None\n",
    "columns = [\"Postal code\", \"Borough\", \"Neighborhood\"]\n",
    "for tab in tables:\n",
    "\ttable_header_verify = []\n",
    "\tfor th in tab.findAll('th'):\n",
    "\t\ttxt = th.getText().strip()\n",
    "\t\ttable_header_verify.append(txt)\n",
    "\tif table_header_verify == columns:\n",
    "\t\ttable = tab\n",
    "\t\tbreak\n",
    "else:\n",
    "\traise Exception ('No table with header: %s' % str(columns))\n",
    "\n",
    "print(\"table with header %s is successfully located!\" % str(columns))"
   ]
  },
  {
   "cell_type": "markdown",
   "metadata": {
    "pycharm": {
     "name": "#%% md\n"
    }
   },
   "source": [
    "### Iterate through the table, convert it to DataFrame"
   ]
  },
  {
   "cell_type": "code",
   "execution_count": 4,
   "metadata": {
    "pycharm": {
     "name": "#%%\n"
    }
   },
   "outputs": [
    {
     "data": {
      "text/html": [
       "<div>\n",
       "<style scoped>\n",
       "    .dataframe tbody tr th:only-of-type {\n",
       "        vertical-align: middle;\n",
       "    }\n",
       "\n",
       "    .dataframe tbody tr th {\n",
       "        vertical-align: top;\n",
       "    }\n",
       "\n",
       "    .dataframe thead th {\n",
       "        text-align: right;\n",
       "    }\n",
       "</style>\n",
       "<table border=\"1\" class=\"dataframe\">\n",
       "  <thead>\n",
       "    <tr style=\"text-align: right;\">\n",
       "      <th></th>\n",
       "      <th>0</th>\n",
       "      <th>1</th>\n",
       "      <th>2</th>\n",
       "    </tr>\n",
       "  </thead>\n",
       "  <tbody>\n",
       "    <tr>\n",
       "      <th>0</th>\n",
       "      <td>M1A</td>\n",
       "      <td>Not assigned</td>\n",
       "      <td></td>\n",
       "    </tr>\n",
       "    <tr>\n",
       "      <th>0</th>\n",
       "      <td>M2A</td>\n",
       "      <td>Not assigned</td>\n",
       "      <td></td>\n",
       "    </tr>\n",
       "    <tr>\n",
       "      <th>0</th>\n",
       "      <td>M3A</td>\n",
       "      <td>North York</td>\n",
       "      <td>Parkwoods</td>\n",
       "    </tr>\n",
       "    <tr>\n",
       "      <th>0</th>\n",
       "      <td>M4A</td>\n",
       "      <td>North York</td>\n",
       "      <td>Victoria Village</td>\n",
       "    </tr>\n",
       "    <tr>\n",
       "      <th>0</th>\n",
       "      <td>M5A</td>\n",
       "      <td>Downtown Toronto</td>\n",
       "      <td>Regent Park / Harbourfront</td>\n",
       "    </tr>\n",
       "    <tr>\n",
       "      <th>0</th>\n",
       "      <td>M6A</td>\n",
       "      <td>North York</td>\n",
       "      <td>Lawrence Manor / Lawrence Heights</td>\n",
       "    </tr>\n",
       "    <tr>\n",
       "      <th>0</th>\n",
       "      <td>M7A</td>\n",
       "      <td>Downtown Toronto</td>\n",
       "      <td>Queen's Park / Ontario Provincial Government</td>\n",
       "    </tr>\n",
       "    <tr>\n",
       "      <th>0</th>\n",
       "      <td>M8A</td>\n",
       "      <td>Not assigned</td>\n",
       "      <td></td>\n",
       "    </tr>\n",
       "    <tr>\n",
       "      <th>0</th>\n",
       "      <td>M9A</td>\n",
       "      <td>Etobicoke</td>\n",
       "      <td>Islington Avenue</td>\n",
       "    </tr>\n",
       "    <tr>\n",
       "      <th>0</th>\n",
       "      <td>M1B</td>\n",
       "      <td>Scarborough</td>\n",
       "      <td>Malvern / Rouge</td>\n",
       "    </tr>\n",
       "  </tbody>\n",
       "</table>\n",
       "</div>"
      ],
      "text/plain": [
       "     0                 1                                             2\n",
       "0  M1A      Not assigned                                              \n",
       "0  M2A      Not assigned                                              \n",
       "0  M3A        North York                                     Parkwoods\n",
       "0  M4A        North York                              Victoria Village\n",
       "0  M5A  Downtown Toronto                    Regent Park / Harbourfront\n",
       "0  M6A        North York             Lawrence Manor / Lawrence Heights\n",
       "0  M7A  Downtown Toronto  Queen's Park / Ontario Provincial Government\n",
       "0  M8A      Not assigned                                              \n",
       "0  M9A         Etobicoke                              Islington Avenue\n",
       "0  M1B       Scarborough                               Malvern / Rouge"
      ]
     },
     "execution_count": 4,
     "metadata": {},
     "output_type": "execute_result"
    }
   ],
   "source": [
    "df = pd.DataFrame()\n",
    "for tr in table.findAll('tr'):\n",
    "\tline = []\n",
    "\tfor td in tr.findAll('td'):\n",
    "\t\ttxt = td.getText().strip()\n",
    "\t\tline.append(txt)\n",
    "\tif line:\n",
    "\t\tdf = df.append([line])\n",
    "\n",
    "df = df.astype(str)\n",
    "df.head(10)"
   ]
  },
  {
   "cell_type": "markdown",
   "metadata": {
    "pycharm": {
     "name": "#%% md\n"
    }
   },
   "source": [
    "### The dataframe will consist of three columns: PostalCode, Borough, and Neighborhood"
   ]
  },
  {
   "cell_type": "code",
   "execution_count": 5,
   "metadata": {
    "pycharm": {
     "name": "#%%\n"
    }
   },
   "outputs": [
    {
     "data": {
      "text/html": [
       "<div>\n",
       "<style scoped>\n",
       "    .dataframe tbody tr th:only-of-type {\n",
       "        vertical-align: middle;\n",
       "    }\n",
       "\n",
       "    .dataframe tbody tr th {\n",
       "        vertical-align: top;\n",
       "    }\n",
       "\n",
       "    .dataframe thead th {\n",
       "        text-align: right;\n",
       "    }\n",
       "</style>\n",
       "<table border=\"1\" class=\"dataframe\">\n",
       "  <thead>\n",
       "    <tr style=\"text-align: right;\">\n",
       "      <th></th>\n",
       "      <th>Postal Code</th>\n",
       "      <th>Borough</th>\n",
       "      <th>Neighborhood</th>\n",
       "    </tr>\n",
       "  </thead>\n",
       "  <tbody>\n",
       "    <tr>\n",
       "      <th>0</th>\n",
       "      <td>M1A</td>\n",
       "      <td>Not assigned</td>\n",
       "      <td></td>\n",
       "    </tr>\n",
       "    <tr>\n",
       "      <th>1</th>\n",
       "      <td>M2A</td>\n",
       "      <td>Not assigned</td>\n",
       "      <td></td>\n",
       "    </tr>\n",
       "    <tr>\n",
       "      <th>2</th>\n",
       "      <td>M3A</td>\n",
       "      <td>North York</td>\n",
       "      <td>Parkwoods</td>\n",
       "    </tr>\n",
       "    <tr>\n",
       "      <th>3</th>\n",
       "      <td>M4A</td>\n",
       "      <td>North York</td>\n",
       "      <td>Victoria Village</td>\n",
       "    </tr>\n",
       "    <tr>\n",
       "      <th>4</th>\n",
       "      <td>M5A</td>\n",
       "      <td>Downtown Toronto</td>\n",
       "      <td>Regent Park / Harbourfront</td>\n",
       "    </tr>\n",
       "    <tr>\n",
       "      <th>5</th>\n",
       "      <td>M6A</td>\n",
       "      <td>North York</td>\n",
       "      <td>Lawrence Manor / Lawrence Heights</td>\n",
       "    </tr>\n",
       "    <tr>\n",
       "      <th>6</th>\n",
       "      <td>M7A</td>\n",
       "      <td>Downtown Toronto</td>\n",
       "      <td>Queen's Park / Ontario Provincial Government</td>\n",
       "    </tr>\n",
       "    <tr>\n",
       "      <th>7</th>\n",
       "      <td>M8A</td>\n",
       "      <td>Not assigned</td>\n",
       "      <td></td>\n",
       "    </tr>\n",
       "    <tr>\n",
       "      <th>8</th>\n",
       "      <td>M9A</td>\n",
       "      <td>Etobicoke</td>\n",
       "      <td>Islington Avenue</td>\n",
       "    </tr>\n",
       "    <tr>\n",
       "      <th>9</th>\n",
       "      <td>M1B</td>\n",
       "      <td>Scarborough</td>\n",
       "      <td>Malvern / Rouge</td>\n",
       "    </tr>\n",
       "  </tbody>\n",
       "</table>\n",
       "</div>"
      ],
      "text/plain": [
       "  Postal Code           Borough                                  Neighborhood\n",
       "0         M1A      Not assigned                                              \n",
       "1         M2A      Not assigned                                              \n",
       "2         M3A        North York                                     Parkwoods\n",
       "3         M4A        North York                              Victoria Village\n",
       "4         M5A  Downtown Toronto                    Regent Park / Harbourfront\n",
       "5         M6A        North York             Lawrence Manor / Lawrence Heights\n",
       "6         M7A  Downtown Toronto  Queen's Park / Ontario Provincial Government\n",
       "7         M8A      Not assigned                                              \n",
       "8         M9A         Etobicoke                              Islington Avenue\n",
       "9         M1B       Scarborough                               Malvern / Rouge"
      ]
     },
     "execution_count": 5,
     "metadata": {},
     "output_type": "execute_result"
    }
   ],
   "source": [
    "columns = ['Postal Code', 'Borough', 'Neighborhood']\n",
    "df.columns = columns\n",
    "df = df.reset_index()[columns]\n",
    "\n",
    "df.head(10)"
   ]
  },
  {
   "cell_type": "markdown",
   "metadata": {
    "pycharm": {
     "name": "#%% md\n"
    }
   },
   "source": [
    "### Only process the cells that have an assigned borough, Ignore cells with a borough that is Not assigned"
   ]
  },
  {
   "cell_type": "code",
   "execution_count": 6,
   "metadata": {
    "pycharm": {
     "name": "#%%\n"
    }
   },
   "outputs": [
    {
     "data": {
      "text/html": [
       "<div>\n",
       "<style scoped>\n",
       "    .dataframe tbody tr th:only-of-type {\n",
       "        vertical-align: middle;\n",
       "    }\n",
       "\n",
       "    .dataframe tbody tr th {\n",
       "        vertical-align: top;\n",
       "    }\n",
       "\n",
       "    .dataframe thead th {\n",
       "        text-align: right;\n",
       "    }\n",
       "</style>\n",
       "<table border=\"1\" class=\"dataframe\">\n",
       "  <thead>\n",
       "    <tr style=\"text-align: right;\">\n",
       "      <th></th>\n",
       "      <th>Postal Code</th>\n",
       "      <th>Borough</th>\n",
       "      <th>Neighborhood</th>\n",
       "    </tr>\n",
       "  </thead>\n",
       "  <tbody>\n",
       "    <tr>\n",
       "      <th>2</th>\n",
       "      <td>M3A</td>\n",
       "      <td>North York</td>\n",
       "      <td>Parkwoods</td>\n",
       "    </tr>\n",
       "    <tr>\n",
       "      <th>3</th>\n",
       "      <td>M4A</td>\n",
       "      <td>North York</td>\n",
       "      <td>Victoria Village</td>\n",
       "    </tr>\n",
       "    <tr>\n",
       "      <th>4</th>\n",
       "      <td>M5A</td>\n",
       "      <td>Downtown Toronto</td>\n",
       "      <td>Regent Park / Harbourfront</td>\n",
       "    </tr>\n",
       "    <tr>\n",
       "      <th>5</th>\n",
       "      <td>M6A</td>\n",
       "      <td>North York</td>\n",
       "      <td>Lawrence Manor / Lawrence Heights</td>\n",
       "    </tr>\n",
       "    <tr>\n",
       "      <th>6</th>\n",
       "      <td>M7A</td>\n",
       "      <td>Downtown Toronto</td>\n",
       "      <td>Queen's Park / Ontario Provincial Government</td>\n",
       "    </tr>\n",
       "    <tr>\n",
       "      <th>8</th>\n",
       "      <td>M9A</td>\n",
       "      <td>Etobicoke</td>\n",
       "      <td>Islington Avenue</td>\n",
       "    </tr>\n",
       "    <tr>\n",
       "      <th>9</th>\n",
       "      <td>M1B</td>\n",
       "      <td>Scarborough</td>\n",
       "      <td>Malvern / Rouge</td>\n",
       "    </tr>\n",
       "    <tr>\n",
       "      <th>11</th>\n",
       "      <td>M3B</td>\n",
       "      <td>North York</td>\n",
       "      <td>Don Mills</td>\n",
       "    </tr>\n",
       "    <tr>\n",
       "      <th>12</th>\n",
       "      <td>M4B</td>\n",
       "      <td>East York</td>\n",
       "      <td>Parkview Hill / Woodbine Gardens</td>\n",
       "    </tr>\n",
       "    <tr>\n",
       "      <th>13</th>\n",
       "      <td>M5B</td>\n",
       "      <td>Downtown Toronto</td>\n",
       "      <td>Garden District, Ryerson</td>\n",
       "    </tr>\n",
       "  </tbody>\n",
       "</table>\n",
       "</div>"
      ],
      "text/plain": [
       "   Postal Code           Borough                                  Neighborhood\n",
       "2          M3A        North York                                     Parkwoods\n",
       "3          M4A        North York                              Victoria Village\n",
       "4          M5A  Downtown Toronto                    Regent Park / Harbourfront\n",
       "5          M6A        North York             Lawrence Manor / Lawrence Heights\n",
       "6          M7A  Downtown Toronto  Queen's Park / Ontario Provincial Government\n",
       "8          M9A         Etobicoke                              Islington Avenue\n",
       "9          M1B       Scarborough                               Malvern / Rouge\n",
       "11         M3B        North York                                     Don Mills\n",
       "12         M4B         East York              Parkview Hill / Woodbine Gardens\n",
       "13         M5B  Downtown Toronto                      Garden District, Ryerson"
      ]
     },
     "execution_count": 6,
     "metadata": {},
     "output_type": "execute_result"
    }
   ],
   "source": [
    "df = df[df['Borough'] != 'Not assigned']\n",
    "df = df.reset_index()[columns]\n",
    "\n",
    "df.head(10)"
   ]
  },
  {
   "cell_type": "markdown",
   "metadata": {
    "pycharm": {
     "name": "#%% md\n"
    }
   },
   "source": [
    "### If a cell has a borough but a Not assigned neighborhood, then the neighborhood will be the same as the borough."
   ]
  },
  {
   "cell_type": "code",
   "execution_count": 7,
   "metadata": {
    "pycharm": {
     "name": "#%%\n"
    }
   },
   "outputs": [],
   "source": [
    "df.loc[df['Neighborhood'] == 'Not assigned', 'Neighborhood'] = df['Borough']\n",
    "df = df.reset_index()[columns]"
   ]
  },
  {
   "cell_type": "markdown",
   "metadata": {
    "pycharm": {
     "name": "#%% md\n"
    }
   },
   "source": [
    "### More than one neighborhood can exist in one postal code area. For example, in the table on the Wikipedia page, you will notice that M5A is listed twice and has two neighborhoods: Harbourfront and Regent Park. These two rows will be combined into one row with the neighborhoods separated with a comma as shown in row 11 in the above table."
   ]
  },
  {
   "cell_type": "code",
   "execution_count": 8,
   "metadata": {
    "pycharm": {
     "name": "#%%\n"
    }
   },
   "outputs": [
    {
     "data": {
      "text/html": [
       "<div>\n",
       "<style scoped>\n",
       "    .dataframe tbody tr th:only-of-type {\n",
       "        vertical-align: middle;\n",
       "    }\n",
       "\n",
       "    .dataframe tbody tr th {\n",
       "        vertical-align: top;\n",
       "    }\n",
       "\n",
       "    .dataframe thead th {\n",
       "        text-align: right;\n",
       "    }\n",
       "</style>\n",
       "<table border=\"1\" class=\"dataframe\">\n",
       "  <thead>\n",
       "    <tr style=\"text-align: right;\">\n",
       "      <th></th>\n",
       "      <th>Postal Code</th>\n",
       "      <th>Borough</th>\n",
       "      <th>Neighborhood</th>\n",
       "    </tr>\n",
       "  </thead>\n",
       "  <tbody>\n",
       "    <tr>\n",
       "      <th>2</th>\n",
       "      <td>M3A</td>\n",
       "      <td>North York</td>\n",
       "      <td>Parkwoods</td>\n",
       "    </tr>\n",
       "    <tr>\n",
       "      <th>3</th>\n",
       "      <td>M4A</td>\n",
       "      <td>North York</td>\n",
       "      <td>Victoria Village</td>\n",
       "    </tr>\n",
       "    <tr>\n",
       "      <th>4</th>\n",
       "      <td>M5A</td>\n",
       "      <td>Downtown Toronto</td>\n",
       "      <td>Regent Park, Harbourfront</td>\n",
       "    </tr>\n",
       "    <tr>\n",
       "      <th>5</th>\n",
       "      <td>M6A</td>\n",
       "      <td>North York</td>\n",
       "      <td>Lawrence Manor, Lawrence Heights</td>\n",
       "    </tr>\n",
       "    <tr>\n",
       "      <th>6</th>\n",
       "      <td>M7A</td>\n",
       "      <td>Downtown Toronto</td>\n",
       "      <td>Queen's Park, Ontario Provincial Government</td>\n",
       "    </tr>\n",
       "    <tr>\n",
       "      <th>8</th>\n",
       "      <td>M9A</td>\n",
       "      <td>Etobicoke</td>\n",
       "      <td>Islington Avenue</td>\n",
       "    </tr>\n",
       "    <tr>\n",
       "      <th>9</th>\n",
       "      <td>M1B</td>\n",
       "      <td>Scarborough</td>\n",
       "      <td>Malvern, Rouge</td>\n",
       "    </tr>\n",
       "    <tr>\n",
       "      <th>11</th>\n",
       "      <td>M3B</td>\n",
       "      <td>North York</td>\n",
       "      <td>Don Mills</td>\n",
       "    </tr>\n",
       "    <tr>\n",
       "      <th>12</th>\n",
       "      <td>M4B</td>\n",
       "      <td>East York</td>\n",
       "      <td>Parkview Hill, Woodbine Gardens</td>\n",
       "    </tr>\n",
       "    <tr>\n",
       "      <th>13</th>\n",
       "      <td>M5B</td>\n",
       "      <td>Downtown Toronto</td>\n",
       "      <td>Garden District, Ryerson</td>\n",
       "    </tr>\n",
       "  </tbody>\n",
       "</table>\n",
       "</div>"
      ],
      "text/plain": [
       "   Postal Code           Borough                                 Neighborhood\n",
       "2          M3A        North York                                    Parkwoods\n",
       "3          M4A        North York                             Victoria Village\n",
       "4          M5A  Downtown Toronto                    Regent Park, Harbourfront\n",
       "5          M6A        North York             Lawrence Manor, Lawrence Heights\n",
       "6          M7A  Downtown Toronto  Queen's Park, Ontario Provincial Government\n",
       "8          M9A         Etobicoke                             Islington Avenue\n",
       "9          M1B       Scarborough                               Malvern, Rouge\n",
       "11         M3B        North York                                    Don Mills\n",
       "12         M4B         East York              Parkview Hill, Woodbine Gardens\n",
       "13         M5B  Downtown Toronto                     Garden District, Ryerson"
      ]
     },
     "execution_count": 8,
     "metadata": {},
     "output_type": "execute_result"
    }
   ],
   "source": [
    "df[\"Neighborhood\"] = df[\"Neighborhood\"].apply(lambda x: x.replace(\" /\", \",\"))\n",
    "\n",
    "df.head(10)"
   ]
  },
  {
   "cell_type": "markdown",
   "metadata": {
    "pycharm": {
     "name": "#%% md\n"
    }
   },
   "source": [
    "### In the last cell of your notebook, use the .shape method to print the number of rows of your dataframe."
   ]
  },
  {
   "cell_type": "code",
   "execution_count": 9,
   "metadata": {
    "pycharm": {
     "name": "#%%\n"
    }
   },
   "outputs": [
    {
     "data": {
      "text/plain": [
       "(103, 3)"
      ]
     },
     "execution_count": 9,
     "metadata": {},
     "output_type": "execute_result"
    }
   ],
   "source": [
    "df.shape"
   ]
  },
  {
   "cell_type": "markdown",
   "metadata": {},
   "source": [
    "## -------------------------------------End of Part 1-------------------------------------"
   ]
  },
  {
   "cell_type": "markdown",
   "metadata": {},
   "source": [
    "## ----------------------------------------Part 2----------------------------------------"
   ]
  },
  {
   "cell_type": "code",
   "execution_count": 10,
   "metadata": {
    "pycharm": {
     "name": "#%%\n"
    }
   },
   "outputs": [
    {
     "data": {
      "text/html": [
       "<div>\n",
       "<style scoped>\n",
       "    .dataframe tbody tr th:only-of-type {\n",
       "        vertical-align: middle;\n",
       "    }\n",
       "\n",
       "    .dataframe tbody tr th {\n",
       "        vertical-align: top;\n",
       "    }\n",
       "\n",
       "    .dataframe thead th {\n",
       "        text-align: right;\n",
       "    }\n",
       "</style>\n",
       "<table border=\"1\" class=\"dataframe\">\n",
       "  <thead>\n",
       "    <tr style=\"text-align: right;\">\n",
       "      <th></th>\n",
       "      <th>Postal Code</th>\n",
       "      <th>Latitude</th>\n",
       "      <th>Longitude</th>\n",
       "    </tr>\n",
       "  </thead>\n",
       "  <tbody>\n",
       "    <tr>\n",
       "      <th>0</th>\n",
       "      <td>M1B</td>\n",
       "      <td>43.806686</td>\n",
       "      <td>-79.194353</td>\n",
       "    </tr>\n",
       "    <tr>\n",
       "      <th>1</th>\n",
       "      <td>M1C</td>\n",
       "      <td>43.784535</td>\n",
       "      <td>-79.160497</td>\n",
       "    </tr>\n",
       "    <tr>\n",
       "      <th>2</th>\n",
       "      <td>M1E</td>\n",
       "      <td>43.763573</td>\n",
       "      <td>-79.188711</td>\n",
       "    </tr>\n",
       "    <tr>\n",
       "      <th>3</th>\n",
       "      <td>M1G</td>\n",
       "      <td>43.770992</td>\n",
       "      <td>-79.216917</td>\n",
       "    </tr>\n",
       "    <tr>\n",
       "      <th>4</th>\n",
       "      <td>M1H</td>\n",
       "      <td>43.773136</td>\n",
       "      <td>-79.239476</td>\n",
       "    </tr>\n",
       "    <tr>\n",
       "      <th>5</th>\n",
       "      <td>M1J</td>\n",
       "      <td>43.744734</td>\n",
       "      <td>-79.239476</td>\n",
       "    </tr>\n",
       "    <tr>\n",
       "      <th>6</th>\n",
       "      <td>M1K</td>\n",
       "      <td>43.727929</td>\n",
       "      <td>-79.262029</td>\n",
       "    </tr>\n",
       "    <tr>\n",
       "      <th>7</th>\n",
       "      <td>M1L</td>\n",
       "      <td>43.711112</td>\n",
       "      <td>-79.284577</td>\n",
       "    </tr>\n",
       "    <tr>\n",
       "      <th>8</th>\n",
       "      <td>M1M</td>\n",
       "      <td>43.716316</td>\n",
       "      <td>-79.239476</td>\n",
       "    </tr>\n",
       "    <tr>\n",
       "      <th>9</th>\n",
       "      <td>M1N</td>\n",
       "      <td>43.692657</td>\n",
       "      <td>-79.264848</td>\n",
       "    </tr>\n",
       "  </tbody>\n",
       "</table>\n",
       "</div>"
      ],
      "text/plain": [
       "  Postal Code   Latitude  Longitude\n",
       "0         M1B  43.806686 -79.194353\n",
       "1         M1C  43.784535 -79.160497\n",
       "2         M1E  43.763573 -79.188711\n",
       "3         M1G  43.770992 -79.216917\n",
       "4         M1H  43.773136 -79.239476\n",
       "5         M1J  43.744734 -79.239476\n",
       "6         M1K  43.727929 -79.262029\n",
       "7         M1L  43.711112 -79.284577\n",
       "8         M1M  43.716316 -79.239476\n",
       "9         M1N  43.692657 -79.264848"
      ]
     },
     "execution_count": 10,
     "metadata": {},
     "output_type": "execute_result"
    }
   ],
   "source": [
    "geo_data = pd.read_csv(\"http://cocl.us/Geospatial_data\")\n",
    "\n",
    "geo_data.head(10)"
   ]
  },
  {
   "cell_type": "markdown",
   "metadata": {
    "pycharm": {
     "name": "#%% md\n"
    }
   },
   "source": [
    "### Iterate through the DataFrame, adding two columns according to geo_data"
   ]
  },
  {
   "cell_type": "code",
   "execution_count": 11,
   "metadata": {
    "pycharm": {
     "name": "#%%\n"
    }
   },
   "outputs": [
    {
     "data": {
      "text/html": [
       "<div>\n",
       "<style scoped>\n",
       "    .dataframe tbody tr th:only-of-type {\n",
       "        vertical-align: middle;\n",
       "    }\n",
       "\n",
       "    .dataframe tbody tr th {\n",
       "        vertical-align: top;\n",
       "    }\n",
       "\n",
       "    .dataframe thead th {\n",
       "        text-align: right;\n",
       "    }\n",
       "</style>\n",
       "<table border=\"1\" class=\"dataframe\">\n",
       "  <thead>\n",
       "    <tr style=\"text-align: right;\">\n",
       "      <th></th>\n",
       "      <th>Postal Code</th>\n",
       "      <th>Borough</th>\n",
       "      <th>Neighborhood</th>\n",
       "      <th>Latitude</th>\n",
       "      <th>Longitude</th>\n",
       "    </tr>\n",
       "  </thead>\n",
       "  <tbody>\n",
       "    <tr>\n",
       "      <th>2</th>\n",
       "      <td>M3A</td>\n",
       "      <td>North York</td>\n",
       "      <td>Parkwoods</td>\n",
       "      <td>43.753259</td>\n",
       "      <td>-79.329656</td>\n",
       "    </tr>\n",
       "    <tr>\n",
       "      <th>3</th>\n",
       "      <td>M4A</td>\n",
       "      <td>North York</td>\n",
       "      <td>Victoria Village</td>\n",
       "      <td>43.725882</td>\n",
       "      <td>-79.315572</td>\n",
       "    </tr>\n",
       "    <tr>\n",
       "      <th>4</th>\n",
       "      <td>M5A</td>\n",
       "      <td>Downtown Toronto</td>\n",
       "      <td>Regent Park, Harbourfront</td>\n",
       "      <td>43.654260</td>\n",
       "      <td>-79.360636</td>\n",
       "    </tr>\n",
       "    <tr>\n",
       "      <th>5</th>\n",
       "      <td>M6A</td>\n",
       "      <td>North York</td>\n",
       "      <td>Lawrence Manor, Lawrence Heights</td>\n",
       "      <td>43.718518</td>\n",
       "      <td>-79.464763</td>\n",
       "    </tr>\n",
       "    <tr>\n",
       "      <th>6</th>\n",
       "      <td>M7A</td>\n",
       "      <td>Downtown Toronto</td>\n",
       "      <td>Queen's Park, Ontario Provincial Government</td>\n",
       "      <td>43.662301</td>\n",
       "      <td>-79.389494</td>\n",
       "    </tr>\n",
       "    <tr>\n",
       "      <th>8</th>\n",
       "      <td>M9A</td>\n",
       "      <td>Etobicoke</td>\n",
       "      <td>Islington Avenue</td>\n",
       "      <td>43.667856</td>\n",
       "      <td>-79.532242</td>\n",
       "    </tr>\n",
       "    <tr>\n",
       "      <th>9</th>\n",
       "      <td>M1B</td>\n",
       "      <td>Scarborough</td>\n",
       "      <td>Malvern, Rouge</td>\n",
       "      <td>43.806686</td>\n",
       "      <td>-79.194353</td>\n",
       "    </tr>\n",
       "    <tr>\n",
       "      <th>11</th>\n",
       "      <td>M3B</td>\n",
       "      <td>North York</td>\n",
       "      <td>Don Mills</td>\n",
       "      <td>43.745906</td>\n",
       "      <td>-79.352188</td>\n",
       "    </tr>\n",
       "    <tr>\n",
       "      <th>12</th>\n",
       "      <td>M4B</td>\n",
       "      <td>East York</td>\n",
       "      <td>Parkview Hill, Woodbine Gardens</td>\n",
       "      <td>43.706397</td>\n",
       "      <td>-79.309937</td>\n",
       "    </tr>\n",
       "    <tr>\n",
       "      <th>13</th>\n",
       "      <td>M5B</td>\n",
       "      <td>Downtown Toronto</td>\n",
       "      <td>Garden District, Ryerson</td>\n",
       "      <td>43.657162</td>\n",
       "      <td>-79.378937</td>\n",
       "    </tr>\n",
       "  </tbody>\n",
       "</table>\n",
       "</div>"
      ],
      "text/plain": [
       "   Postal Code           Borough                                 Neighborhood  \\\n",
       "2          M3A        North York                                    Parkwoods   \n",
       "3          M4A        North York                             Victoria Village   \n",
       "4          M5A  Downtown Toronto                    Regent Park, Harbourfront   \n",
       "5          M6A        North York             Lawrence Manor, Lawrence Heights   \n",
       "6          M7A  Downtown Toronto  Queen's Park, Ontario Provincial Government   \n",
       "8          M9A         Etobicoke                             Islington Avenue   \n",
       "9          M1B       Scarborough                               Malvern, Rouge   \n",
       "11         M3B        North York                                    Don Mills   \n",
       "12         M4B         East York              Parkview Hill, Woodbine Gardens   \n",
       "13         M5B  Downtown Toronto                     Garden District, Ryerson   \n",
       "\n",
       "     Latitude  Longitude  \n",
       "2   43.753259 -79.329656  \n",
       "3   43.725882 -79.315572  \n",
       "4   43.654260 -79.360636  \n",
       "5   43.718518 -79.464763  \n",
       "6   43.662301 -79.389494  \n",
       "8   43.667856 -79.532242  \n",
       "9   43.806686 -79.194353  \n",
       "11  43.745906 -79.352188  \n",
       "12  43.706397 -79.309937  \n",
       "13  43.657162 -79.378937  "
      ]
     },
     "execution_count": 11,
     "metadata": {},
     "output_type": "execute_result"
    }
   ],
   "source": [
    "for index, row in df.iterrows():\n",
    "\t# Just in case there is no match for this PostalCode\n",
    "\tseries_Latitude = geo_data[geo_data['Postal Code'] == row['Postal Code']]['Latitude']\n",
    "\tdf.loc[index, 'Latitude'] = series_Latitude.tolist()[0] if len(series_Latitude) >= 1 else \"Unknown Latitude\"\n",
    "\tseries_Longitude = geo_data[geo_data['Postal Code'] == row['Postal Code']]['Longitude']\n",
    "\tdf.loc[index, 'Longitude'] = series_Longitude.tolist()[0] if len(series_Longitude) >= 1 else \"Unknown Longitude\"\n",
    "\n",
    "df.head(10)"
   ]
  },
  {
   "cell_type": "markdown",
   "metadata": {},
   "source": [
    "## -------------------------------------End of Part 2-------------------------------------"
   ]
  },
  {
   "cell_type": "markdown",
   "metadata": {},
   "source": [
    "## ----------------------------------------Part 3----------------------------------------"
   ]
  },
  {
   "cell_type": "code",
   "execution_count": 12,
   "metadata": {
    "pycharm": {
     "name": "#%%\n"
    }
   },
   "outputs": [],
   "source": [
    "import folium"
   ]
  },
  {
   "cell_type": "markdown",
   "metadata": {},
   "source": [
    "### Toronto's Geographical Coordinates (From Google)"
   ]
  },
  {
   "cell_type": "code",
   "execution_count": 13,
   "metadata": {
    "pycharm": {
     "name": "#%%\n"
    }
   },
   "outputs": [
    {
     "name": "stdout",
     "output_type": "stream",
     "text": [
      "The geographical coordinate of Toronto are 43.6532, -79.3832.\n"
     ]
    }
   ],
   "source": [
    "latitude = 43.6532\n",
    "longitude= -79.3832\n",
    "\n",
    "print('The geographical coordinate of Toronto are %s, %s.' % (latitude, longitude))"
   ]
  },
  {
   "cell_type": "markdown",
   "metadata": {
    "pycharm": {
     "name": "#%% md\n"
    }
   },
   "source": [
    "### Create map of Toronto using latitude and longitude values above:"
   ]
  },
  {
   "cell_type": "code",
   "execution_count": 14,
   "metadata": {
    "pycharm": {
     "name": "#%%\n"
    }
   },
   "outputs": [],
   "source": [
    "map_geo = folium.Map(location=[latitude, longitude], zoom_start=11)"
   ]
  },
  {
   "cell_type": "markdown",
   "metadata": {},
   "source": [
    "### Adding markers to map"
   ]
  },
  {
   "cell_type": "code",
   "execution_count": 15,
   "metadata": {
    "pycharm": {
     "name": "#%%\n"
    }
   },
   "outputs": [],
   "source": [
    "for lat, lng, label in zip(df['Latitude'], df['Longitude'], df['Neighborhood']):\n",
    "    label = folium.Popup(label, parse_html=True)\n",
    "    folium.CircleMarker(\n",
    "        (lat, lng),\n",
    "        radius=5,\n",
    "        popup=label,\n",
    "        color='blue',\n",
    "        fill=True,\n",
    "        fill_color='#3186cc',\n",
    "        fill_opacity=0.7,\n",
    "        parse_html=False\n",
    "    ).add_to(map_geo)"
   ]
  },
  {
   "cell_type": "markdown",
   "metadata": {
    "pycharm": {
     "name": "#%% md\n"
    }
   },
   "source": [
    "### Display map"
   ]
  },
  {
   "cell_type": "code",
   "execution_count": 16,
   "metadata": {
    "pycharm": {
     "name": "#%%\n"
    }
   },
   "outputs": [
    {
     "data": {
      "text/html": [
       "<div style=\"width:100%;\"><div style=\"position:relative;width:100%;height:0;padding-bottom:60%;\"><iframe src=\"about:blank\" style=\"position:absolute;width:100%;height:100%;left:0;top:0;border:none !important;\" data-html=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 onload=\"this.contentDocument.open();this.contentDocument.write(atob(this.getAttribute('data-html')));this.contentDocument.close();\" allowfullscreen webkitallowfullscreen mozallowfullscreen></iframe></div></div>"
      ],
      "text/plain": [
       "<folium.folium.Map at 0x235b0100148>"
      ]
     },
     "execution_count": 16,
     "metadata": {},
     "output_type": "execute_result"
    }
   ],
   "source": [
    "map_geo\n"
   ]
  },
  {
   "cell_type": "markdown",
   "source": [],
   "metadata": {
    "collapsed": false,
    "pycharm": {
     "name": "#%% md\n"
    }
   }
  },
  {
   "cell_type": "code",
   "execution_count": null,
   "outputs": [],
   "source": [],
   "metadata": {
    "collapsed": false,
    "pycharm": {
     "name": "#%%\n"
    }
   }
  },
  {
   "cell_type": "markdown",
   "source": [
    "## -------------------------------------End of Part 3-------------------------------------"
   ],
   "metadata": {
    "collapsed": false
   }
  }
 ],
 "metadata": {
  "kernelspec": {
   "display_name": "Python 3",
   "language": "python",
   "name": "python3"
  },
  "language_info": {
   "codemirror_mode": {
    "name": "ipython",
    "version": 3
   },
   "file_extension": ".py",
   "mimetype": "text/x-python",
   "name": "python",
   "nbconvert_exporter": "python",
   "pygments_lexer": "ipython3",
   "version": "3.7.7"
  }
 },
 "nbformat": 4,
 "nbformat_minor": 1
}